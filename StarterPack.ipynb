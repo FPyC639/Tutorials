{
 "cells": [
  {
   "cell_type": "markdown",
   "id": "decimal-documentary",
   "metadata": {},
   "source": [
    "<h1> Practice on Jupyter Notebook and Python </h1>\n",
    "\n",
    "<p>Using Pandas and Web resources.</p>\n",
    "\n",
    "<p>It can also be useful to take a look at this website called <a href=\"https://anaconda.org/\"> Anaconda.org</a>. This website contains all the information about the packages and the channels in the anaconda installation for the computer in both Linux, Mactinosh, and Windows environments. It also has the docs for the packages in the documentation button.</p>"
   ]
  },
  {
   "cell_type": "code",
   "execution_count": 75,
   "id": "understanding-elder",
   "metadata": {},
   "outputs": [],
   "source": [
    "import pandas as pd                 # Import module pandas data wrangling library\n",
    "import numpy as np                  # Import module numpy numerical analysis library\n",
    "import matplotlib.pyplot as mplt    # Import submodule pyplot from matplotlib a plotting library\n",
    "%matplotlib inline\n",
    "from IPython.display import display, Markdown, Latex # Import module IPYTHON to display Markdown\n",
    "import seaborn as sns               # Import module seaborn an advanced plotting library\n",
    "import xlrd                         # Import module xlrd to read excel reading support"
   ]
  },
  {
   "cell_type": "markdown",
   "id": "employed-operation",
   "metadata": {},
   "source": [
    "<p>Pandas module docs are shown below and the following can be obtained from the Pandas <a href=\"https://pandas.pydata.org/\"> website </a>.</p>"
   ]
  },
  {
   "cell_type": "code",
   "execution_count": 2,
   "id": "uniform-closer",
   "metadata": {},
   "outputs": [
    {
     "data": {
      "text/markdown": [
       "\n",
       "pandas - a powerful data analysis and manipulation library for Python\n",
       "=====================================================================\n",
       "\n",
       "**pandas** is a Python package providing fast, flexible, and expressive data\n",
       "structures designed to make working with \"relational\" or \"labeled\" data both\n",
       "easy and intuitive. It aims to be the fundamental high-level building block for\n",
       "doing practical, **real world** data analysis in Python. Additionally, it has\n",
       "the broader goal of becoming **the most powerful and flexible open source data\n",
       "analysis / manipulation tool available in any language**. It is already well on\n",
       "its way toward this goal.\n",
       "\n",
       "Main Features\n",
       "-------------\n",
       "Here are just a few of the things that pandas does well:\n",
       "\n",
       "  - Easy handling of missing data in floating point as well as non-floating\n",
       "    point data.\n",
       "  - Size mutability: columns can be inserted and deleted from DataFrame and\n",
       "    higher dimensional objects\n",
       "  - Automatic and explicit data alignment: objects can be explicitly aligned\n",
       "    to a set of labels, or the user can simply ignore the labels and let\n",
       "    `Series`, `DataFrame`, etc. automatically align the data for you in\n",
       "    computations.\n",
       "  - Powerful, flexible group by functionality to perform split-apply-combine\n",
       "    operations on data sets, for both aggregating and transforming data.\n",
       "  - Make it easy to convert ragged, differently-indexed data in other Python\n",
       "    and NumPy data structures into DataFrame objects.\n",
       "  - Intelligent label-based slicing, fancy indexing, and subsetting of large\n",
       "    data sets.\n",
       "  - Intuitive merging and joining data sets.\n",
       "  - Flexible reshaping and pivoting of data sets.\n",
       "  - Hierarchical labeling of axes (possible to have multiple labels per tick).\n",
       "  - Robust IO tools for loading data from flat files (CSV and delimited),\n",
       "    Excel files, databases, and saving/loading data from the ultrafast HDF5\n",
       "    format.\n",
       "  - Time series-specific functionality: date range generation and frequency\n",
       "    conversion, moving window statistics, date shifting and lagging.\n"
      ],
      "text/plain": [
       "<IPython.core.display.Markdown object>"
      ]
     },
     "metadata": {},
     "output_type": "display_data"
    }
   ],
   "source": [
    "display(Markdown(pd.__doc__))"
   ]
  },
  {
   "cell_type": "markdown",
   "id": "proved-accident",
   "metadata": {},
   "source": [
    "<h2> Extract from Gauss Server </h2>\n",
    "\n",
    "<p>Extract information from URL.</p>"
   ]
  },
  {
   "cell_type": "code",
   "execution_count": 3,
   "id": "amateur-google",
   "metadata": {},
   "outputs": [],
   "source": [
    "url = \"http://gauss.kean.edu/courses/MATH2526/McClave_Stats13e_CSV/ch13/SEED.xlsx\""
   ]
  },
  {
   "cell_type": "markdown",
   "id": "regular-robertson",
   "metadata": {},
   "source": [
    "<p>When it comes to storing a url into a variable name it can best be done as follows:</p>\n",
    "<style>\n",
    "#Python {\n",
    "  font-family: Consolas,\"courier new\";\n",
    "  color: crimson;\n",
    "  background-color: #f1f1f1;\n",
    "  padding: 2px;\n",
    "  font-size: 105%;\n",
    "}\n",
    "</style>\n",
    "<center><code id=\"Python\" >url = \"&lt;url&gt;\"</code></center>"
   ]
  },
  {
   "cell_type": "code",
   "execution_count": 27,
   "id": "occasional-husband",
   "metadata": {},
   "outputs": [],
   "source": [
    "df1 = pd.read_excel(url)"
   ]
  },
  {
   "cell_type": "markdown",
   "id": "pregnant-columbus",
   "metadata": {},
   "source": [
    "<p>Pandas can read and store file handlers in many different unique ways. Here are a few:</p>\n",
    " <ul>\n",
    "    <li><code id=\"Python\">pd.read_csv(\"&lt;file&gt;\")</code></li>\n",
    "  <li><code id=\"Python\">pd.read_sql(\"&lt;file&gt;\")</code></li>\n",
    "  <li><code id=\"Python\">pd.read_excel(\"&lt;file&gt;\")</code></li>\n",
    "    <li><code id=\"Python\">pd.read_pickle(\"&lt;file&gt;\")</code></li>\n",
    "</ul> \n",
    "<p> There is also a list of very important things that one can observe in <code id=\"Python\"> pd.DataFrame </code>. That is the number of rows and columns that the data set has, and that can be done with the particular command <code id=\"Python\"> pd.DataFrame.shape </code>, this command produces a tuple which has (rows,columns) in a coordinate pair. Furthermore, you can index those values and get the rows, and columns as follows.</p>"
   ]
  },
  {
   "cell_type": "code",
   "execution_count": 5,
   "id": "thousand-cancer",
   "metadata": {},
   "outputs": [
    {
     "name": "stdout",
     "output_type": "stream",
     "text": [
      "The number of rows is  73  meanwhile the number of columns is  6. The command I used was pd.DataFrame.shape and I indexed its values for the rows, and the columns. This is example using end.\n",
      " The number of rows is 73, meanwhile the number of columns is 6. The command I used was pd.DataFrame.shape and I indexed its values for the rows, and columns.\n",
      "\n"
     ]
    }
   ],
   "source": [
    "print(\"The number of rows is \", df1.shape[0], \" meanwhile the number of columns is \", df1.shape[1], end=\".\")\n",
    "print(\" The command I used was pd.DataFrame.shape and I indexed its values for the rows, and the columns\" , end= \".\")\n",
    "print(\" This is example using end.\")\n",
    "\n",
    "print(\"\"\" The number of rows is {one}, meanwhile the number of columns is {two}. The command I used was pd.DataFrame.shape and I indexed its values for the rows, and columns.\n",
    "\"\"\".format(one = df1.shape[0], two = df1.shape[1]))"
   ]
  },
  {
   "cell_type": "markdown",
   "id": "convinced-safety",
   "metadata": {},
   "source": [
    "<p>Trailing characters in print commands are important, and they can be changed to form cohesive, logical statements.</p>"
   ]
  },
  {
   "cell_type": "code",
   "execution_count": 6,
   "id": "ongoing-lodge",
   "metadata": {},
   "outputs": [
    {
     "name": "stdout",
     "output_type": "stream",
     "text": [
      "The number of variables are 6.\n"
     ]
    },
    {
     "data": {
      "text/plain": [
       "Index(['PlantID', 'Type', 'Abundance', 'Reproduction', 'SeedWt', 'Diaspore'], dtype='object')"
      ]
     },
     "execution_count": 6,
     "metadata": {},
     "output_type": "execute_result"
    }
   ],
   "source": [
    "print(\"The number of variables are {one}.\".format(one = len(df1.columns)))\n",
    "df1.columns"
   ]
  },
  {
   "cell_type": "markdown",
   "id": "informative-energy",
   "metadata": {},
   "source": [
    "<p> We learned about the <code id=\"Python\"> pd.DataFrame.columns </code> that gives the column headers, and it as well in combination with the <code id=\"Python\"> len(x) </code> command it can be said that one can obtain the number of variables in a data frame. </p>"
   ]
  },
  {
   "cell_type": "code",
   "execution_count": 7,
   "id": "indonesian-reach",
   "metadata": {},
   "outputs": [
    {
     "data": {
      "text/plain": [
       "['SeedWt', 'Diaspore']"
      ]
     },
     "execution_count": 7,
     "metadata": {},
     "output_type": "execute_result"
    }
   ],
   "source": [
    "df1.columns[df1.isna().any()].tolist()"
   ]
  },
  {
   "cell_type": "markdown",
   "id": "commercial-gnome",
   "metadata": {},
   "source": [
    "<p>The preceding can be obtained with a simple search on <a hef=\"https://stackoverflow.com/\" >StackOverflow</a>, <a hef=\"https://stackoverflow.com/questions/36226083/how-to-find-which-columns-contain-any-nan-value-in-pandas-dataframe\"> particularly this question</a>. However there are other places like Quora which could have possible answers."
   ]
  },
  {
   "cell_type": "code",
   "execution_count": 8,
   "id": "royal-daughter",
   "metadata": {},
   "outputs": [],
   "source": [
    "df1.to_excel(\"SEED.xlsx\")"
   ]
  },
  {
   "cell_type": "markdown",
   "id": "brown-cigarette",
   "metadata": {},
   "source": [
    "<p>When you would like to have you data in a certain form like excel, csv, tsv, and so on you could use Pandas write to function. The commands look as follows:</p>\n",
    " <ul>\n",
    "    <li><code id=\"Python\">pd.to_csv(\"&lt;file&gt;\")</code></li>\n",
    "  <li><code id=\"Python\">pd.to_sql(\"&lt;file&gt;\")</code></li>\n",
    "  <li><code id=\"Python\">pd.to_excel(\"&lt;file&gt;\")</code></li>\n",
    "    <li><code id=\"Python\">pd.to_pickle(\"&lt;file&gt;\")</code></li>\n",
    "</ul> \n",
    "<p> There are a plethora of more output formats that Pandas offers for data wrangling. </p>"
   ]
  },
  {
   "cell_type": "code",
   "execution_count": 9,
   "id": "protecting-emergency",
   "metadata": {},
   "outputs": [
    {
     "data": {
      "text/markdown": [
       "\n",
       "`matplotlib.pyplot` is a state-based interface to matplotlib. It provides\n",
       "a MATLAB-like way of plotting.\n",
       "\n",
       "pyplot is mainly intended for interactive plots and simple cases of\n",
       "programmatic plot generation::\n",
       "\n",
       "    import numpy as np\n",
       "    import matplotlib.pyplot as plt\n",
       "\n",
       "    x = np.arange(0, 5, 0.1)\n",
       "    y = np.sin(x)\n",
       "    plt.plot(x, y)\n",
       "\n",
       "The object-oriented API is recommended for more complex plots.\n"
      ],
      "text/plain": [
       "<IPython.core.display.Markdown object>"
      ]
     },
     "metadata": {},
     "output_type": "display_data"
    }
   ],
   "source": [
    "display(Markdown(mplt.__doc__))"
   ]
  },
  {
   "cell_type": "code",
   "execution_count": 19,
   "id": "southeast-split",
   "metadata": {},
   "outputs": [
    {
     "data": {
      "text/html": [
       "<div>\n",
       "<style scoped>\n",
       "    .dataframe tbody tr th:only-of-type {\n",
       "        vertical-align: middle;\n",
       "    }\n",
       "\n",
       "    .dataframe tbody tr th {\n",
       "        vertical-align: top;\n",
       "    }\n",
       "\n",
       "    .dataframe thead th {\n",
       "        text-align: right;\n",
       "    }\n",
       "</style>\n",
       "<table border=\"1\" class=\"dataframe\">\n",
       "  <thead>\n",
       "    <tr style=\"text-align: right;\">\n",
       "      <th></th>\n",
       "      <th>Type</th>\n",
       "      <th>Abundance</th>\n",
       "      <th>Reproduction</th>\n",
       "      <th>SeedWt</th>\n",
       "      <th>Diaspore</th>\n",
       "    </tr>\n",
       "    <tr>\n",
       "      <th>PlantID</th>\n",
       "      <th></th>\n",
       "      <th></th>\n",
       "      <th></th>\n",
       "      <th></th>\n",
       "      <th></th>\n",
       "    </tr>\n",
       "  </thead>\n",
       "  <tbody>\n",
       "    <tr>\n",
       "      <th>1</th>\n",
       "      <td>DwarfShrub</td>\n",
       "      <td>SA</td>\n",
       "      <td>VE</td>\n",
       "      <td>2.0</td>\n",
       "      <td>3.0</td>\n",
       "    </tr>\n",
       "    <tr>\n",
       "      <th>2</th>\n",
       "      <td>DwarfShrub</td>\n",
       "      <td>SR</td>\n",
       "      <td>VE</td>\n",
       "      <td>1.0</td>\n",
       "      <td>1.0</td>\n",
       "    </tr>\n",
       "    <tr>\n",
       "      <th>3</th>\n",
       "      <td>DwarfShrub</td>\n",
       "      <td>SA</td>\n",
       "      <td>VP</td>\n",
       "      <td>1.0</td>\n",
       "      <td>1.0</td>\n",
       "    </tr>\n",
       "    <tr>\n",
       "      <th>4</th>\n",
       "      <td>DwarfShrub</td>\n",
       "      <td>SA</td>\n",
       "      <td>VE</td>\n",
       "      <td>4.0</td>\n",
       "      <td>4.0</td>\n",
       "    </tr>\n",
       "    <tr>\n",
       "      <th>5</th>\n",
       "      <td>DwarfShrub</td>\n",
       "      <td>SR</td>\n",
       "      <td>VP</td>\n",
       "      <td>5.0</td>\n",
       "      <td>4.0</td>\n",
       "    </tr>\n",
       "    <tr>\n",
       "      <th>...</th>\n",
       "      <td>...</td>\n",
       "      <td>...</td>\n",
       "      <td>...</td>\n",
       "      <td>...</td>\n",
       "      <td>...</td>\n",
       "    </tr>\n",
       "    <tr>\n",
       "      <th>69</th>\n",
       "      <td>Grasses</td>\n",
       "      <td>SA</td>\n",
       "      <td>VP</td>\n",
       "      <td>2.0</td>\n",
       "      <td>1.0</td>\n",
       "    </tr>\n",
       "    <tr>\n",
       "      <th>70</th>\n",
       "      <td>Grasses</td>\n",
       "      <td>SA</td>\n",
       "      <td>VP</td>\n",
       "      <td>2.0</td>\n",
       "      <td>5.0</td>\n",
       "    </tr>\n",
       "    <tr>\n",
       "      <th>71</th>\n",
       "      <td>Grasses</td>\n",
       "      <td>SA</td>\n",
       "      <td>NV</td>\n",
       "      <td>2.0</td>\n",
       "      <td>5.0</td>\n",
       "    </tr>\n",
       "    <tr>\n",
       "      <th>72</th>\n",
       "      <td>Grasses</td>\n",
       "      <td>SA</td>\n",
       "      <td>VP</td>\n",
       "      <td>2.0</td>\n",
       "      <td>5.0</td>\n",
       "    </tr>\n",
       "    <tr>\n",
       "      <th>73</th>\n",
       "      <td>Grasses</td>\n",
       "      <td>SA</td>\n",
       "      <td>VP</td>\n",
       "      <td>2.0</td>\n",
       "      <td>5.0</td>\n",
       "    </tr>\n",
       "  </tbody>\n",
       "</table>\n",
       "<p>73 rows × 5 columns</p>\n",
       "</div>"
      ],
      "text/plain": [
       "               Type Abundance Reproduction  SeedWt  Diaspore\n",
       "PlantID                                                     \n",
       "1        DwarfShrub        SA           VE     2.0       3.0\n",
       "2        DwarfShrub        SR           VE     1.0       1.0\n",
       "3        DwarfShrub        SA           VP     1.0       1.0\n",
       "4        DwarfShrub        SA           VE     4.0       4.0\n",
       "5        DwarfShrub        SR           VP     5.0       4.0\n",
       "...             ...       ...          ...     ...       ...\n",
       "69          Grasses        SA           VP     2.0       1.0\n",
       "70          Grasses        SA           VP     2.0       5.0\n",
       "71          Grasses        SA           NV     2.0       5.0\n",
       "72          Grasses        SA           VP     2.0       5.0\n",
       "73          Grasses        SA           VP     2.0       5.0\n",
       "\n",
       "[73 rows x 5 columns]"
      ]
     },
     "execution_count": 19,
     "metadata": {},
     "output_type": "execute_result"
    }
   ],
   "source": [
    "df1.set_index(['PlantID'])"
   ]
  },
  {
   "cell_type": "code",
   "execution_count": 20,
   "id": "canadian-harassment",
   "metadata": {},
   "outputs": [
    {
     "data": {
      "image/png": "[encoded data removed]",
      "text/plain": [
       "<Figure size 720x360 with 2 Axes>"
      ]
     },
     "metadata": {
      "needs_background": "light"
     },
     "output_type": "display_data"
    }
   ],
   "source": [
    "fig, [ax,ax1] = mplt.subplots(ncols = 2, figsize= (10,5))\n",
    "ax.hist(x = df1['SeedWt'])\n",
    "ax.set_xlabel('Weights')\n",
    "ax.set_ylabel('Frequency')\n",
    "ax.set_title('Seed Weights')\n",
    "ax1.hist(x = df1['Diaspore'])\n",
    "ax1.set_ylabel('Frequency')\n",
    "ax1.set_xlabel('Diaspore')\n",
    "ax1.set_title('Diaspore')\n",
    "mplt.show()"
   ]
  },
  {
   "cell_type": "code",
   "execution_count": 80,
   "id": "abroad-tackle",
   "metadata": {},
   "outputs": [
    {
     "name": "stdout",
     "output_type": "stream",
     "text": [
      " The number of rows is 61, meanwhile the number of columns is 6. The command I used was pd.DataFrame.shape and I indexed its values for the rows, and columns.\n",
      "\n",
      "(61, 6)\n"
     ]
    }
   ],
   "source": [
    "seed_clean_df = df1.dropna()\n",
    "print(\"\"\" The number of rows is {one}, meanwhile the number of columns is {two}. The command I used was pd.DataFrame.shape and I indexed its values for the rows, and columns.\n",
    "\"\"\".format(one = seed_clean_df.shape[0], two = seed_clean_df.shape[1]))\n",
    "print(seed_clean_df.shape)"
   ]
  },
  {
   "cell_type": "code",
   "execution_count": 34,
   "id": "temporal-wilson",
   "metadata": {},
   "outputs": [
    {
     "data": {
      "image/png": "[encoded data removed]",
      "text/plain": [
       "<Figure size 720x360 with 2 Axes>"
      ]
     },
     "metadata": {
      "needs_background": "light"
     },
     "output_type": "display_data"
    }
   ],
   "source": [
    "fig1, [ax,ax1] = mplt.subplots(ncols = 2, figsize= (10,5))\n",
    "ax.hist(x=seed_clean_df['SeedWt'])\n",
    "ax.set_xlabel('Weights')\n",
    "ax.set_ylabel('Frequency')\n",
    "ax.set_title('Seed Weights')\n",
    "ax1.hist(x = seed_clean_df['Diaspore'])\n",
    "ax1.set_ylabel('Frequency')\n",
    "ax1.set_xlabel('Diaspore')\n",
    "ax1.set_title('Diaspore')\n",
    "mplt.show()"
   ]
  },
  {
   "cell_type": "markdown",
   "id": "motivated-houston",
   "metadata": {},
   "source": [
    "<p> The <a href=\"https://seaborn.pydata.org/\"> Seaborn Website</a> contains many details for the Seaborn package and its visualization tools. It would be a great idea to familiarilze oneself with the library, as well with the Matplotlib package. The website can be found <a href=\"https://matplotlib.org/stable/index.html\"> here</a>. I would like to note here that the hue command is not working as indicated in the library and I am going to work on that section. </p>"
   ]
  },
  {
   "cell_type": "code",
   "execution_count": 81,
   "id": "overhead-bubble",
   "metadata": {},
   "outputs": [],
   "source": [
    "hue_1 = seed_clean_df[\"Type\"].to_list()"
   ]
  },
  {
   "cell_type": "code",
   "execution_count": 82,
   "id": "radio-small",
   "metadata": {},
   "outputs": [
    {
     "data": {
      "image/png": "[encoded data removed]",
      "text/plain": [
       "<Figure size 432x288 with 1 Axes>"
      ]
     },
     "metadata": {
      "needs_background": "light"
     },
     "output_type": "display_data"
    }
   ],
   "source": [
    "sns.scatterplot(data= seed_clean_df, x=\"SeedWt\", y=\"Diaspore\",hue=new)\n",
    "mplt.show()"
   ]
  }
 ],
 "metadata": {
  "kernelspec": {
   "display_name": "Python 3",
   "language": "python",
   "name": "python3"
  },
  "language_info": {
   "codemirror_mode": {
    "name": "ipython",
    "version": 3
   },
   "file_extension": ".py",
   "mimetype": "text/x-python",
   "name": "python",
   "nbconvert_exporter": "python",
   "pygments_lexer": "ipython3",
   "version": "3.8.5"
  }
 },
 "nbformat": 4,
 "nbformat_minor": 5
}
